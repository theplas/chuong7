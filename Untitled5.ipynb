{
  "nbformat": 4,
  "nbformat_minor": 0,
  "metadata": {
    "colab": {
      "name": "Untitled5.ipynb",
      "provenance": [],
      "authorship_tag": "ABX9TyNH0AXwz8+maPqGxR4gDz2W",
      "include_colab_link": true
    },
    "kernelspec": {
      "name": "python3",
      "display_name": "Python 3"
    }
  },
  "cells": [
    {
      "cell_type": "markdown",
      "metadata": {
        "id": "view-in-github",
        "colab_type": "text"
      },
      "source": [
        "<a href=\"https://colab.research.google.com/github/theplas/chuong7/blob/main/Untitled5.ipynb\" target=\"_parent\"><img src=\"https://colab.research.google.com/assets/colab-badge.svg\" alt=\"Open In Colab\"/></a>"
      ]
    },
    {
      "cell_type": "code",
      "metadata": {
        "id": "dUoM170w2svN"
      },
      "source": [
        "class Car:\r\n",
        "  hangxe = 'Vinfast'\r\n",
        "\r\n",
        "  def __init__(self, name, engine, color):\r\n",
        "    self.name = name\r\n",
        "    self.engine = engine\r\n",
        "    self.color = color\r\n",
        "    \r\n",
        "  def setColor(self, hangxe):\r\n",
        "    self.hangxe = hangxe\r\n",
        "  \r\n",
        "  def setColor(self, color):\r\n",
        "    self.color = color\r\n",
        "  \r\n",
        "  def setEngine(self, engine):\r\n",
        "    self.engine = engine\r\n",
        "  \r\n",
        "  def setName(self, name):\r\n",
        "    self.name = name\r\n",
        "  \r\n",
        "  def getEngine(self):\r\n",
        "    return self.engine\r\n",
        "  \r\n",
        "  def toString(self):\r\n",
        "    s = 'Xe {} có màu {} và động cơ {} mã lực, hãng xe {}'.format(self.name, self.color, self.engine, self.hangxe)\r\n",
        "    return(s)"
      ],
      "execution_count": null,
      "outputs": []
    },
    {
      "cell_type": "code",
      "metadata": {
        "colab": {
          "base_uri": "https://localhost:8080/"
        },
        "id": "sze7Nvc-2y2N",
        "outputId": "1910ba23-d5e8-4c87-ecaa-7176f33a6736"
      },
      "source": [
        "A20 = Car('VinA20', 'N20','xanh')\r\n",
        "print(A20.toString())"
      ],
      "execution_count": null,
      "outputs": [
        {
          "output_type": "stream",
          "text": [
            "Xe VinA20 có màu xanh và động cơ N20 mã lực, hãng xe Vinfast\n"
          ],
          "name": "stdout"
        }
      ]
    }
  ]
}